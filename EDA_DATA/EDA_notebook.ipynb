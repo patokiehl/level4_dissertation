{
 "cells": [
  {
   "cell_type": "code",
   "execution_count": 1,
   "metadata": {},
   "outputs": [],
   "source": [
    "import numpy as np \n",
    "import matplotlib.pyplot as plt \n",
    "import pandas as pd \n",
    "import glob\n",
    "import os"
   ]
  },
  {
   "cell_type": "code",
   "execution_count": null,
   "metadata": {},
   "outputs": [
    {
     "name": "stdout",
     "output_type": "stream",
     "text": [
      "Found files: ['/Users/patrickkiehlmann/Desktop/python_test/diss_code/EDA_DATA/formatted_files/parsedparticipant9.txt', '/Users/patrickkiehlmann/Desktop/python_test/diss_code/EDA_DATA/formatted_files/parsedparticipant8.txt', '/Users/patrickkiehlmann/Desktop/python_test/diss_code/EDA_DATA/formatted_files/parsedparticipant11.txt', '/Users/patrickkiehlmann/Desktop/python_test/diss_code/EDA_DATA/formatted_files/parsedparticipant10.txt', '/Users/patrickkiehlmann/Desktop/python_test/diss_code/EDA_DATA/formatted_files/parsedparticipant12.txt', '/Users/patrickkiehlmann/Desktop/python_test/diss_code/EDA_DATA/formatted_files/parsedparticipant13.txt', '/Users/patrickkiehlmann/Desktop/python_test/diss_code/EDA_DATA/formatted_files/parsedparticipant5.txt', '/Users/patrickkiehlmann/Desktop/python_test/diss_code/EDA_DATA/formatted_files/parsedparticipant6.txt', '/Users/patrickkiehlmann/Desktop/python_test/diss_code/EDA_DATA/formatted_files/parsedparticipant7.txt', '/Users/patrickkiehlmann/Desktop/python_test/diss_code/EDA_DATA/formatted_files/parsedparticipant3.txt', '/Users/patrickkiehlmann/Desktop/python_test/diss_code/EDA_DATA/formatted_files/parsedparticipant2.txt']\n",
      "/Users/patrickkiehlmann/Desktop/python_test/diss_code/EDA_DATA/Graphs\n"
     ]
    }
   ],
   "source": [
    "current_dir = os.getcwd()\n",
    "input_folder = os.path.join(current_dir, \"formatted_files\")\n",
    "output_folder = os.path.join(current_dir, \"Graphs\")\n",
    "pattern = os.path.join(input_folder, \"parsedparticipant*.txt\")\n",
    "file_list = glob.glob(pattern)\n",
    "\n",
    "print(\"Found files:\", file_list)\n",
    "print(output_folder)"
   ]
  },
  {
   "cell_type": "code",
   "execution_count": null,
   "metadata": {},
   "outputs": [
    {
     "name": "stdout",
     "output_type": "stream",
     "text": [
      "/Users/patrickkiehlmann/Desktop/python_test/diss_code/EDA_DATA/Graphs/parsedparticipant9.png\n",
      "/Users/patrickkiehlmann/Desktop/python_test/diss_code/EDA_DATA/Graphs/parsedparticipant8.png\n",
      "/Users/patrickkiehlmann/Desktop/python_test/diss_code/EDA_DATA/Graphs/parsedparticipant11.png\n",
      "/Users/patrickkiehlmann/Desktop/python_test/diss_code/EDA_DATA/Graphs/parsedparticipant10.png\n",
      "/Users/patrickkiehlmann/Desktop/python_test/diss_code/EDA_DATA/Graphs/parsedparticipant12.png\n",
      "/Users/patrickkiehlmann/Desktop/python_test/diss_code/EDA_DATA/Graphs/parsedparticipant13.png\n",
      "/Users/patrickkiehlmann/Desktop/python_test/diss_code/EDA_DATA/Graphs/parsedparticipant5.png\n",
      "/Users/patrickkiehlmann/Desktop/python_test/diss_code/EDA_DATA/Graphs/parsedparticipant6.png\n",
      "/Users/patrickkiehlmann/Desktop/python_test/diss_code/EDA_DATA/Graphs/parsedparticipant7.png\n",
      "/Users/patrickkiehlmann/Desktop/python_test/diss_code/EDA_DATA/Graphs/parsedparticipant3.png\n",
      "/Users/patrickkiehlmann/Desktop/python_test/diss_code/EDA_DATA/Graphs/parsedparticipant2.png\n"
     ]
    }
   ],
   "source": [
    "sample_rate = 10\n",
    "for file in file_list:\n",
    "    data = np.loadtxt(file)\n",
    "    num_samples = len(data)\n",
    "    \n",
    "    time = np.arange(num_samples) / sample_rate\n",
    "    time_min = time / 60.0\n",
    "    base_name = os.path.basename(file)\n",
    "\n",
    "    plt.figure(figsize=(12, 6))\n",
    "    plt.plot(time_min, data, label='Sensor Reading')\n",
    "    plt.xlabel('Time (minutes)')\n",
    "    plt.ylabel('Sensor Value in MicroSeivens (uS)')\n",
    "    plt.title(f'EDA measurements over time for {base_name}')\n",
    "    plt.xlim(0, time_min[-1])\n",
    "    plt.legend()\n",
    "\n",
    "    EDA_graph = base_name.replace(\".txt\", \".png\")\n",
    "    output_graph = os.path.join(output_folder, EDA_graph)\n",
    "    plt.savefig(output_graph)\n",
    "    plt.close()"
   ]
  }
 ],
 "metadata": {
  "kernelspec": {
   "display_name": "dissENV",
   "language": "python",
   "name": "python3"
  },
  "language_info": {
   "codemirror_mode": {
    "name": "ipython",
    "version": 3
   },
   "file_extension": ".py",
   "mimetype": "text/x-python",
   "name": "python",
   "nbconvert_exporter": "python",
   "pygments_lexer": "ipython3",
   "version": "3.13.1"
  }
 },
 "nbformat": 4,
 "nbformat_minor": 2
}
