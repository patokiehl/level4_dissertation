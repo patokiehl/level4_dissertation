{
 "cells": [
  {
   "cell_type": "code",
   "execution_count": null,
   "metadata": {},
   "outputs": [],
   "source": [
    "import numpy as np \n",
    "import matplotlib.pyplot as plt \n",
    "import pandas as pd \n",
    "import glob\n",
    "import os"
   ]
  },
  {
   "cell_type": "code",
   "execution_count": 11,
   "metadata": {},
   "outputs": [
    {
     "name": "stdout",
     "output_type": "stream",
     "text": [
      "/Users/patrickkiehlmann/Desktop/python_test/diss_code/data /Users/patrickkiehlmann/Desktop/python_test/diss_code/EDA_DATA/formatted_files /Users/patrickkiehlmann/Desktop/python_test/diss_code/heart_rate\n"
     ]
    }
   ],
   "source": [
    "# Folders\n",
    "\n",
    "current_dir = os.getcwd()\n",
    "\n",
    "input_cal_folder = os.path.abspath(os.path.join(current_dir, \"..\", \"data\"))\n",
    "input_eda_folder = os.path.abspath(os.path.join(current_dir, \"..\", \"EDA_DATA/formatted_files\"))\n",
    "input_hr_folder = os.path.abspath(os.path.join(current_dir, \"..\", \"heart_rate\"))\n",
    "\n",
    "print(input_cal_folder, input_eda_folder, input_hr_folder)"
   ]
  },
  {
   "cell_type": "code",
   "execution_count": null,
   "metadata": {},
   "outputs": [
    {
     "name": "stdout",
     "output_type": "stream",
     "text": [
      "['/Users/patrickkiehlmann/Desktop/python_test/diss_code/EDA_DATA/formatted_files/parsedparticipant9.txt', '/Users/patrickkiehlmann/Desktop/python_test/diss_code/EDA_DATA/formatted_files/parsedparticipant8.txt', '/Users/patrickkiehlmann/Desktop/python_test/diss_code/EDA_DATA/formatted_files/parsedparticipant11.txt', '/Users/patrickkiehlmann/Desktop/python_test/diss_code/EDA_DATA/formatted_files/parsedparticipant10.txt', '/Users/patrickkiehlmann/Desktop/python_test/diss_code/EDA_DATA/formatted_files/parsedparticipant12.txt', '/Users/patrickkiehlmann/Desktop/python_test/diss_code/EDA_DATA/formatted_files/parsedparticipant13.txt', '/Users/patrickkiehlmann/Desktop/python_test/diss_code/EDA_DATA/formatted_files/parsedparticipant5.txt', '/Users/patrickkiehlmann/Desktop/python_test/diss_code/EDA_DATA/formatted_files/parsedparticipant6.txt', '/Users/patrickkiehlmann/Desktop/python_test/diss_code/EDA_DATA/formatted_files/parsedparticipant7.txt', '/Users/patrickkiehlmann/Desktop/python_test/diss_code/EDA_DATA/formatted_files/parsedparticipant3.txt', '/Users/patrickkiehlmann/Desktop/python_test/diss_code/EDA_DATA/formatted_files/parsedparticipant2.txt']\n"
     ]
    }
   ],
   "source": [
    "# EDA Data \n",
    "eda_pattern = os.path.join(input_eda_folder, \"parsedparticipant*.txt\")\n",
    "eda_data = glob.glob(eda_pattern)\n",
    "print(eda_data)\n"
   ]
  },
  {
   "cell_type": "code",
   "execution_count": null,
   "metadata": {},
   "outputs": [],
   "source": [
    "# Cal data \n"
   ]
  }
 ],
 "metadata": {
  "kernelspec": {
   "display_name": "dissENV",
   "language": "python",
   "name": "python3"
  },
  "language_info": {
   "codemirror_mode": {
    "name": "ipython",
    "version": 3
   },
   "file_extension": ".py",
   "mimetype": "text/x-python",
   "name": "python",
   "nbconvert_exporter": "python",
   "pygments_lexer": "ipython3",
   "version": "3.13.1"
  }
 },
 "nbformat": 4,
 "nbformat_minor": 2
}
