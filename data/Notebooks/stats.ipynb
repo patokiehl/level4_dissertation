{
 "cells": [
  {
   "cell_type": "code",
   "execution_count": 2,
   "metadata": {},
   "outputs": [],
   "source": [
    "import statsmodels.api as sm\n",
    "import numpy as np\n",
    "import pandas as pd \n",
    "import glob\n",
    "import os\n",
    "import scipy.stats as stats\n",
    "import pingouin as pg\n",
    "import scikit_posthocs as sp\n"
   ]
  },
  {
   "cell_type": "code",
   "execution_count": 3,
   "metadata": {},
   "outputs": [],
   "source": [
    "# Folders\n",
    "\n",
    "current_dir = os.getcwd()\n",
    "\n",
    "input_cal_folder = os.path.abspath(os.path.join(current_dir, \"..\", \"raw\", \"participant_data\"))\n",
    "input_eda_folder = os.path.abspath(os.path.join(current_dir, \"..\", \"raw\", \"EDA_DATA/formatted_EDA_data\"))\n",
    "input_hr_folder = os.path.abspath(os.path.join(current_dir, \"..\", \"raw\", \"Fit_files\"))\n"
   ]
  },
  {
   "cell_type": "code",
   "execution_count": 4,
   "metadata": {},
   "outputs": [],
   "source": [
    "all_participants = os.path.join(input_cal_folder, \"participant*\") \n",
    "cal_folders = glob.glob(all_participants)\n",
    "\n",
    "\n",
    "participants_data = {}\n",
    "\n",
    "for folder_path in cal_folders:\n",
    "    participant_id = os.path.basename(folder_path)\n",
    "\n",
    "    meta_path = os.path.join(folder_path, \"meta.csv\")\n",
    "    raw_path = os.path.join(folder_path, \"raw.csv\")\n",
    "    \n",
    "    calibration_files = glob.glob(os.path.join(folder_path, \"calibration*.csv\"))\n",
    "    \n",
    "    meta_df = pd.read_csv(meta_path, header=None,\n",
    "                          names=[\"timestamp\", \"partID\", \"age-range\", \"gender\", \"temperature\", \"hand_roughness\"]) if os.path.exists(meta_path) else None\n",
    "    raw_df = pd.read_csv(raw_path, header=None,\n",
    "                 names=[\"timestamp\", \"VOLT\", \"PW\", \"PWI\", \"PPB\", \"FREQ\", \"calibration_counter\"]) if os.path.exists(raw_path) else None\n",
    "    \n",
    "    calibration_dfs = {}\n",
    "    for cal_file in calibration_files:\n",
    "        cal_name = os.path.splitext(os.path.basename(cal_file))[0]\n",
    "        calibration_dfs[cal_name] = pd.read_csv(cal_file, header=None, \n",
    "                                                names=[\"timestamp\", \"VOLT\", \"PW\", \"PWI\", \"PPB\", \"FREQ\"])\n",
    "    \n",
    "    participants_data[participant_id] = {\n",
    "        'meta': meta_df,\n",
    "        'raw': raw_df,\n",
    "        'calibrations': calibration_dfs\n",
    "    }\n"
   ]
  },
  {
   "cell_type": "code",
   "execution_count": 5,
   "metadata": {},
   "outputs": [],
   "source": [
    "data_rows = []\n",
    "\n",
    "for participant, pdata in participants_data.items():\n",
    "    calibrations = pdata.get('calibrations')\n",
    "    if not calibrations:\n",
    "        continue\n",
    "    for cal_name, cal_df in calibrations.items():\n",
    "        if len(cal_df) < 2:\n",
    "            continue\n",
    "        min_val = cal_df.iloc[0]['VOLT']\n",
    "        max_val = cal_df.iloc[1]['VOLT']\n",
    "        cal_num = int(cal_name.replace(\"calibration\", \"\"))\n",
    "        \n",
    "        data_rows.append({'participant': participant, 'calibration': cal_num, 'voltage_type': 'min', 'VOLT': min_val})\n",
    "        data_rows.append({'participant': participant, 'calibration': cal_num, 'voltage_type': 'max', 'VOLT': max_val})\n",
    "\n",
    "df_calib = pd.DataFrame(data_rows)"
   ]
  },
  {
   "cell_type": "code",
   "execution_count": 6,
   "metadata": {},
   "outputs": [],
   "source": [
    "df_min = df_calib[df_calib['voltage_type'] == 'min'].copy()\n",
    "df_max = df_calib[df_calib['voltage_type'] == 'max'].copy()\n",
    "\n",
    "df_min_per = df_min.sort_values(['participant', 'calibration'])\n",
    "df_max_per = df_max.sort_values(['participant', 'calibration'])\n",
    "\n",
    "df_min_per['perc_change'] = df_min_per.groupby('participant')['VOLT'].pct_change() * 100\n",
    "df_max_per['perc_change'] = df_max_per.groupby('participant')['VOLT'].pct_change() * 100\n",
    "\n",
    "\n",
    "df_min_max_percent = pd.merge(df_min_per, df_max_per, on=['participant', 'calibration'], suffixes=('_min', '_max'))\n",
    "\n",
    "df_min_max_percent = df_min_max_percent[[\"participant\", \"calibration\",\"perc_change_min\", \"perc_change_max\"]]\n",
    "df_min_max_percent.fillna(0, inplace=True)\n",
    "\n",
    "df_min_max_percent.to_csv(\"min_max_percent.csv\", index=False)"
   ]
  },
  {
   "cell_type": "code",
   "execution_count": 7,
   "metadata": {},
   "outputs": [
    {
     "name": "stdout",
     "output_type": "stream",
     "text": [
      "      participant  calibration  true_change_min  true_change_max\n",
      "0   participant10            0             0.00              0.0\n",
      "1   participant10            1            -0.29             -2.3\n",
      "2   participant10            2            -0.03              0.1\n",
      "3   participant10            3             0.05              1.5\n",
      "4   participant11            0             0.00              0.0\n",
      "5   participant11            1            -0.16              2.8\n",
      "6   participant11            2            -1.08             -1.0\n",
      "7   participant11            3             0.20              0.5\n",
      "8   participant12            0             0.00              0.0\n",
      "9   participant12            1            -1.76              0.5\n",
      "10  participant12            2             0.03              0.5\n",
      "11  participant12            3             0.00              1.5\n",
      "12  participant13            0             0.00              0.0\n",
      "13  participant13            1             0.90             -0.3\n",
      "14  participant13            2             0.00             -1.5\n",
      "15  participant13            3             0.30              5.5\n",
      "16  participant14            0             0.00              0.0\n",
      "17  participant14            1             0.62             -0.5\n",
      "18  participant14            2            -0.45              1.0\n",
      "19  participant14            3             0.05             -0.5\n"
     ]
    }
   ],
   "source": [
    "df_min = df_calib[df_calib['voltage_type'] == 'min'].copy()\n",
    "df_max = df_calib[df_calib['voltage_type'] == 'max'].copy()\n",
    "\n",
    "df_min_true = df_min.sort_values(['participant', 'calibration'])\n",
    "df_max_true = df_max.sort_values(['participant', 'calibration'])\n",
    "\n",
    "df_min_true['true_change'] = df_min_true.groupby('participant')['VOLT'].diff()\n",
    "df_max_true['true_change'] = df_max_true.groupby('participant')['VOLT'].diff()\n",
    "\n",
    "\n",
    "df_min_max_true = pd.merge(df_min_true, df_max_true, on=['participant', 'calibration'], suffixes=('_min', '_max'))\n",
    "\n",
    "df_min_max_true = df_min_max_true[[\"participant\", \"calibration\",\"true_change_min\", \"true_change_max\"]]\n",
    "df_min_max_true.fillna(0, inplace=True)\n",
    "\n",
    "print(df_min_max_true.head(20))"
   ]
  },
  {
   "cell_type": "code",
   "execution_count": 8,
   "metadata": {},
   "outputs": [
    {
     "name": "stdout",
     "output_type": "stream",
     "text": [
      "normality test for percent Change Min\n",
      "                        W      pval  normal\n",
      "perc_change_min  0.870693  0.000081   False\n",
      "normality test for percent Change Max\n",
      "                        W          pval  normal\n",
      "perc_change_max  0.777164  4.107301e-07   False\n",
      "normality test for True Change Min\n",
      "                        W      pval  normal\n",
      "true_change_min  0.842995  0.000014   False\n",
      "normality test for True Change Max\n",
      "                        W      pval  normal\n",
      "true_change_max  0.807038  0.000002   False\n"
     ]
    }
   ],
   "source": [
    "norm_min = pg.normality(df_min_max_percent['perc_change_min'].dropna())\n",
    "print(\"normality test for percent Change Min\")\n",
    "print(norm_min)\n",
    "\n",
    "norm_max = pg.normality(df_min_max_percent['perc_change_max'].dropna())\n",
    "print(\"normality test for percent Change Max\")\n",
    "print(norm_max)\n",
    "\n",
    "\n",
    "norm_min = pg.normality(df_min_max_true['true_change_min'].dropna())\n",
    "print(\"normality test for True Change Min\")\n",
    "print(norm_min)\n",
    "\n",
    "norm_max = pg.normality(df_min_max_true['true_change_max'].dropna())\n",
    "print(\"normality test for True Change Max\")\n",
    "print(norm_max)"
   ]
  },
  {
   "cell_type": "code",
   "execution_count": 9,
   "metadata": {},
   "outputs": [
    {
     "name": "stdout",
     "output_type": "stream",
     "text": [
      "percent min\n",
      "               Source         W     ddof1      ddof2        F     p-unc\n",
      "Friedman  calibration  0.233757  2.833333  31.166667  3.35576  0.033409\n",
      "\n",
      "\n",
      "\n",
      "\n",
      "percent max\n",
      "               Source         W     ddof1      ddof2         F     p-unc\n",
      "Friedman  calibration  0.245192  2.833333  31.166667  3.573248  0.026855\n",
      "\n",
      "\n",
      "\n",
      "\n",
      "true min\n",
      "               Source         W     ddof1      ddof2        F     p-unc\n",
      "Friedman  calibration  0.233757  2.833333  31.166667  3.35576  0.033409\n",
      "\n",
      "\n",
      "\n",
      "\n",
      "true max\n",
      "               Source         W     ddof1      ddof2         F     p-unc\n",
      "Friedman  calibration  0.229575  2.833333  31.166667  3.277837  0.036149\n"
     ]
    }
   ],
   "source": [
    "friedman_min_percent = pg.friedman(data=df_min_max_percent, dv='perc_change_min', within='calibration', subject='participant', method='f')\n",
    "print(\"percent min\")\n",
    "print(friedman_min_percent)\n",
    "print(\"\\n\\n\\n\")\n",
    "friedman_max_percent = pg.friedman(data=df_min_max_percent, dv='perc_change_max', within='calibration', subject='participant', method='f')\n",
    "print(\"percent max\")\n",
    "print(friedman_max_percent)\n",
    "\n",
    "print(\"\\n\\n\\n\")\n",
    "\n",
    "friedman_min = pg.friedman(data=df_min_max_true, dv='true_change_min', within='calibration', subject='participant', method='f')\n",
    "print(\"true min\")\n",
    "print(friedman_min)\n",
    "print(\"\\n\\n\\n\")\n",
    "friedman_max = pg.friedman(data=df_min_max_true, dv='true_change_max', within='calibration', subject='participant', method='f')\n",
    "print(\"true max\")\n",
    "print(friedman_max)\n"
   ]
  },
  {
   "cell_type": "code",
   "execution_count": 10,
   "metadata": {},
   "outputs": [
    {
     "name": "stdout",
     "output_type": "stream",
     "text": [
      "      Contrast  A  B  Paired  Parametric  W-val alternative     p-unc  \\\n",
      "0  calibration  0  1    True       False   38.0   two-sided  0.969727   \n",
      "1  calibration  0  2    True       False   14.0   two-sided  0.101562   \n",
      "2  calibration  0  3    True       False    8.0   two-sided  0.024414   \n",
      "3  calibration  1  2    True       False   24.0   two-sided  0.266113   \n",
      "4  calibration  1  3    True       False   25.0   two-sided  0.301270   \n",
      "5  calibration  2  3    True       False    6.0   two-sided  0.006836   \n",
      "\n",
      "     p-corr p-adjust    hedges  \n",
      "0  0.969727     holm -0.354129  \n",
      "1  0.406250     holm  0.673027  \n",
      "2  0.122070     holm -0.943061  \n",
      "3  0.798340     holm  0.698568  \n",
      "4  0.798340     holm -0.413265  \n",
      "5  0.041016     holm -1.156248  \n"
     ]
    }
   ],
   "source": [
    "posthoc = pg.pairwise_tests(dv='perc_change_min', \n",
    "                            within='calibration', \n",
    "                            subject='participant', \n",
    "                            data=df_min_max_percent, \n",
    "                            padjust='holm', \n",
    "                            parametric=False)\n",
    "print(posthoc)"
   ]
  },
  {
   "cell_type": "code",
   "execution_count": 11,
   "metadata": {},
   "outputs": [
    {
     "name": "stdout",
     "output_type": "stream",
     "text": [
      "      Contrast  A  B  Paired  Parametric  W-val alternative     p-unc  \\\n",
      "0  calibration  0  1    True       False   38.0   two-sided  0.969727   \n",
      "1  calibration  0  2    True       False   16.0   two-sided  0.147461   \n",
      "2  calibration  0  3    True       False    9.0   two-sided  0.031250   \n",
      "3  calibration  1  2    True       False   28.0   two-sided  0.423828   \n",
      "4  calibration  1  3    True       False   27.0   two-sided  0.380371   \n",
      "5  calibration  2  3    True       False    6.0   two-sided  0.006836   \n",
      "\n",
      "     p-corr p-adjust    hedges  \n",
      "0  1.000000     holm -0.097226  \n",
      "1  0.589844     holm  0.728337  \n",
      "2  0.156250     holm -0.842695  \n",
      "3  1.000000     holm  0.518668  \n",
      "4  1.000000     holm -0.399514  \n",
      "5  0.041016     holm -1.105729  \n"
     ]
    }
   ],
   "source": [
    "posthoc = pg.pairwise_tests(dv='true_change_min', \n",
    "                            within='calibration', \n",
    "                            subject='participant', \n",
    "                            data=df_min_max_true, \n",
    "                            padjust='holm', \n",
    "                            parametric=False)\n",
    "print(posthoc)"
   ]
  },
  {
   "cell_type": "code",
   "execution_count": 12,
   "metadata": {},
   "outputs": [
    {
     "name": "stdout",
     "output_type": "stream",
     "text": [
      "      Contrast  A  B  Paired  Parametric  W-val alternative     p-unc  \\\n",
      "0  calibration  0  1    True       False   12.5   two-sided  0.476562   \n",
      "1  calibration  0  2    True       False   22.0   two-sided  0.605469   \n",
      "2  calibration  0  3    True       False    2.5   two-sided  0.003906   \n",
      "3  calibration  1  2    True       False   18.0   two-sided  0.652344   \n",
      "4  calibration  1  3    True       False    8.0   two-sided  0.046875   \n",
      "5  calibration  2  3    True       False    9.5   two-sided  0.034180   \n",
      "\n",
      "     p-corr p-adjust    hedges  \n",
      "0  1.000000     holm -0.280659  \n",
      "1  1.000000     holm  0.218655  \n",
      "2  0.023438     holm -1.161178  \n",
      "3  1.000000     holm  0.353844  \n",
      "4  0.187500     holm -0.749858  \n",
      "5  0.170898     holm -1.141711  \n"
     ]
    }
   ],
   "source": [
    "posthoc = pg.pairwise_tests(dv='true_change_max', \n",
    "                            within='calibration', \n",
    "                            subject='participant', \n",
    "                            data=df_min_max_true, \n",
    "                            padjust='holm', \n",
    "                            parametric=False)\n",
    "print(posthoc)"
   ]
  },
  {
   "cell_type": "code",
   "execution_count": 13,
   "metadata": {},
   "outputs": [
    {
     "name": "stdout",
     "output_type": "stream",
     "text": [
      "      Contrast  A  B  Paired  Parametric  W-val alternative     p-unc  \\\n",
      "0  calibration  0  1    True       False   12.0   two-sided  0.460938   \n",
      "1  calibration  0  2    True       False   24.0   two-sided  0.769531   \n",
      "2  calibration  0  3    True       False    2.0   two-sided  0.002930   \n",
      "3  calibration  1  2    True       False   22.0   two-sided  0.625000   \n",
      "4  calibration  1  3    True       False   14.0   two-sided  0.101562   \n",
      "5  calibration  2  3    True       False   12.0   two-sided  0.067383   \n",
      "\n",
      "     p-corr p-adjust    hedges  \n",
      "0  1.000000     holm -0.467922  \n",
      "1  1.000000     holm  0.105624  \n",
      "2  0.017578     holm -1.153535  \n",
      "3  1.000000     holm  0.458787  \n",
      "4  0.406250     holm -0.588035  \n",
      "5  0.336914     holm -1.087589  \n"
     ]
    }
   ],
   "source": [
    "posthoc = pg.pairwise_tests(dv='perc_change_max', \n",
    "                            within='calibration', \n",
    "                            subject='participant', \n",
    "                            data=df_min_max_percent, \n",
    "                            padjust='holm', \n",
    "                            parametric=False)\n",
    "print(posthoc)"
   ]
  },
  {
   "cell_type": "code",
   "execution_count": null,
   "metadata": {},
   "outputs": [
    {
     "data": {
      "image/png": "[encoded data removed]",
      "text/plain": [
       "<Figure size 1500x600 with 1 Axes>"
      ]
     },
     "metadata": {},
     "output_type": "display_data"
    }
   ],
   "source": [
    "import matplotlib.pyplot as plt\n",
    "import seaborn as sns\n",
    "\n",
    "df_min_max_percent\n",
    "\n",
    "plt.figure(figsize=(15, 6))\n",
    "sns.violinplot(x='calibration', y='perc_change_min', hue='perc_change_max', data=df_min_max_percent, split=True) \n",
    "plt.xlabel(\"Calibration Number\")\n",
    "plt.ylabel(\"Input Voltage\")\n",
    "plt.title(\"Calibration Voltages: Min (left) vs Max (right)\")\n",
    "plt.legend(title='Voltage Type')\n",
    "plt.show()\n"
   ]
  }
 ],
 "metadata": {
  "kernelspec": {
   "display_name": "dissENV",
   "language": "python",
   "name": "python3"
  },
  "language_info": {
   "codemirror_mode": {
    "name": "ipython",
    "version": 3
   },
   "file_extension": ".py",
   "mimetype": "text/x-python",
   "name": "python",
   "nbconvert_exporter": "python",
   "pygments_lexer": "ipython3",
   "version": "3.13.1"
  }
 },
 "nbformat": 4,
 "nbformat_minor": 2
}
